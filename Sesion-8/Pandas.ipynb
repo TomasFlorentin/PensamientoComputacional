{
 "cells": [
  {
   "cell_type": "markdown",
   "metadata": {},
   "source": [
    "## Importo la libreria de Pandas"
   ]
  },
  {
   "cell_type": "code",
   "execution_count": 1,
   "metadata": {},
   "outputs": [
    {
     "data": {
      "text/plain": [
       "'2.2.2'"
      ]
     },
     "execution_count": 1,
     "metadata": {},
     "output_type": "execute_result"
    }
   ],
   "source": [
    "import pandas as pd\n",
    "pd.__version__"
   ]
  },
  {
   "cell_type": "code",
   "execution_count": 71,
   "metadata": {},
   "outputs": [
    {
     "data": {
      "text/html": [
       "<div>\n",
       "<style scoped>\n",
       "    .dataframe tbody tr th:only-of-type {\n",
       "        vertical-align: middle;\n",
       "    }\n",
       "\n",
       "    .dataframe tbody tr th {\n",
       "        vertical-align: top;\n",
       "    }\n",
       "\n",
       "    .dataframe thead th {\n",
       "        text-align: right;\n",
       "    }\n",
       "</style>\n",
       "<table border=\"1\" class=\"dataframe\">\n",
       "  <thead>\n",
       "    <tr style=\"text-align: right;\">\n",
       "      <th></th>\n",
       "      <th>nombre</th>\n",
       "      <th>director</th>\n",
       "      <th>año</th>\n",
       "      <th>género</th>\n",
       "      <th>puntaje</th>\n",
       "    </tr>\n",
       "  </thead>\n",
       "  <tbody>\n",
       "    <tr>\n",
       "      <th>0</th>\n",
       "      <td>Titanic</td>\n",
       "      <td>James Cameron</td>\n",
       "      <td>1997</td>\n",
       "      <td>romance</td>\n",
       "      <td>8.6</td>\n",
       "    </tr>\n",
       "    <tr>\n",
       "      <th>1</th>\n",
       "      <td>Kill Bill</td>\n",
       "      <td>Quentin Tarantino</td>\n",
       "      <td>2003</td>\n",
       "      <td>acción</td>\n",
       "      <td>NaN</td>\n",
       "    </tr>\n",
       "    <tr>\n",
       "      <th>2</th>\n",
       "      <td>Matrix</td>\n",
       "      <td>Hermanas Wachowski</td>\n",
       "      <td>1999</td>\n",
       "      <td>ciencia ficción</td>\n",
       "      <td>6.9</td>\n",
       "    </tr>\n",
       "    <tr>\n",
       "      <th>3</th>\n",
       "      <td>El padrino</td>\n",
       "      <td>Francis Ford Coppola</td>\n",
       "      <td>1972</td>\n",
       "      <td>drama</td>\n",
       "      <td>7.5</td>\n",
       "    </tr>\n",
       "    <tr>\n",
       "      <th>4</th>\n",
       "      <td>Avatar</td>\n",
       "      <td>James Cameron</td>\n",
       "      <td>2009</td>\n",
       "      <td>ciencia ficción</td>\n",
       "      <td>9.1</td>\n",
       "    </tr>\n",
       "    <tr>\n",
       "      <th>5</th>\n",
       "      <td>Casablanca</td>\n",
       "      <td>Michael Curtiz</td>\n",
       "      <td>1942</td>\n",
       "      <td>drama</td>\n",
       "      <td>6.0</td>\n",
       "    </tr>\n",
       "    <tr>\n",
       "      <th>6</th>\n",
       "      <td>El exorcista</td>\n",
       "      <td>William Friedkin</td>\n",
       "      <td>1973</td>\n",
       "      <td>terror</td>\n",
       "      <td>NaN</td>\n",
       "    </tr>\n",
       "    <tr>\n",
       "      <th>7</th>\n",
       "      <td>Soy leyenda</td>\n",
       "      <td>Francis Lawrence</td>\n",
       "      <td>2007</td>\n",
       "      <td>ciencia ficción</td>\n",
       "      <td>NaN</td>\n",
       "    </tr>\n",
       "    <tr>\n",
       "      <th>8</th>\n",
       "      <td>El club de la pelea</td>\n",
       "      <td>David Fincher</td>\n",
       "      <td>1999</td>\n",
       "      <td>drama</td>\n",
       "      <td>9.4</td>\n",
       "    </tr>\n",
       "    <tr>\n",
       "      <th>9</th>\n",
       "      <td>Mujercitas</td>\n",
       "      <td>Greta Gerwig</td>\n",
       "      <td>2019</td>\n",
       "      <td>drama</td>\n",
       "      <td>8.0</td>\n",
       "    </tr>\n",
       "  </tbody>\n",
       "</table>\n",
       "</div>"
      ],
      "text/plain": [
       "                nombre              director   año           género  puntaje\n",
       "0              Titanic         James Cameron  1997          romance      8.6\n",
       "1            Kill Bill     Quentin Tarantino  2003           acción      NaN\n",
       "2               Matrix    Hermanas Wachowski  1999  ciencia ficción      6.9\n",
       "3           El padrino  Francis Ford Coppola  1972            drama      7.5\n",
       "4               Avatar         James Cameron  2009  ciencia ficción      9.1\n",
       "5           Casablanca        Michael Curtiz  1942            drama      6.0\n",
       "6         El exorcista      William Friedkin  1973           terror      NaN\n",
       "7          Soy leyenda      Francis Lawrence  2007  ciencia ficción      NaN\n",
       "8  El club de la pelea         David Fincher  1999            drama      9.4\n",
       "9           Mujercitas          Greta Gerwig  2019            drama      8.0"
      ]
     },
     "execution_count": 71,
     "metadata": {},
     "output_type": "execute_result"
    }
   ],
   "source": [
    "peliculas = {\n",
    "    'nombre': ['Titanic', 'Kill Bill', 'Matrix', 'El padrino', 'Avatar', 'Casablanca', 'El exorcista', 'Soy leyenda', 'El club de la pelea', 'Mujercitas'],\n",
    "    'director': ['James Cameron', 'Quentin Tarantino', 'Hermanas Wachowski', 'Francis Ford Coppola', 'James Cameron', 'Michael Curtiz', 'William Friedkin', 'Francis Lawrence', 'David Fincher', 'Greta Gerwig'],\n",
    "    'año': [1997, 2003, 1999, 1972, 2009, 1942, 1973, 2007, 1999, 2019],\n",
    "    'género': ['romance', 'acción', 'ciencia ficción', 'drama', 'ciencia ficción', 'drama', 'terror', 'ciencia ficción', 'drama', 'drama'],\n",
    "    'puntaje': [8.6, None, 6.9, 7.5, 9.1, 6.0, None, None, 9.4, 8.0]\n",
    "}\n",
    "\n",
    "#? Creamos el DataFrame \n",
    "df = pd.DataFrame(peliculas)\n",
    "df #Mostramos el dataframe"
   ]
  },
  {
   "cell_type": "markdown",
   "metadata": {},
   "source": [
    "## Ejercicio 1\n",
    "**1**. Mostrar la información del DataFrame con el método info(), ¿Cómo se llaman y qué tipo de dato tiene cada columna? ¿Cuántos elementos nulos hay en cada columna? Interpretar qué información se guarda en esta tabla y para qué puede servir"
   ]
  },
  {
   "cell_type": "code",
   "execution_count": 5,
   "metadata": {},
   "outputs": [
    {
     "name": "stdout",
     "output_type": "stream",
     "text": [
      "<class 'pandas.core.frame.DataFrame'>\n",
      "RangeIndex: 10 entries, 0 to 9\n",
      "Data columns (total 5 columns):\n",
      " #   Column    Non-Null Count  Dtype  \n",
      "---  ------    --------------  -----  \n",
      " 0   nombre    10 non-null     object \n",
      " 1   director  10 non-null     object \n",
      " 2   año       10 non-null     int64  \n",
      " 3   género    10 non-null     object \n",
      " 4   puntaje   7 non-null      float64\n",
      "dtypes: float64(1), int64(1), object(3)\n",
      "memory usage: 532.0+ bytes\n"
     ]
    }
   ],
   "source": [
    "df.info()"
   ]
  },
  {
   "cell_type": "markdown",
   "metadata": {},
   "source": [
    "Las columnas son 5 en total, nombre tiene datos del tipo string (object), director tiene datos del tipo string (object), año tiene datos del tipo entero (int64), género tiene datos del tipo string (object) y puntaje tiene datos del tipo flotante (float64). La única columna que tiene elementos nulos es puntaje, la caul tiene 3 elementos nulos."
   ]
  },
  {
   "cell_type": "markdown",
   "metadata": {},
   "source": [
    "## Ejercicio 2\n",
    "**2**. Mostrar sólo los nombres de las primeras 3 películas del DataFrame."
   ]
  },
  {
   "cell_type": "code",
   "execution_count": 55,
   "metadata": {},
   "outputs": [
    {
     "data": {
      "text/plain": [
       "0      Titanic\n",
       "1    Kill Bill\n",
       "2       Matrix\n",
       "Name: nombre, dtype: object"
      ]
     },
     "execution_count": 55,
     "metadata": {},
     "output_type": "execute_result"
    }
   ],
   "source": [
    "# df.loc[:2,'nombre']\n",
    "#? Otra forma\n",
    "df.head(3)['nombre']"
   ]
  },
  {
   "cell_type": "markdown",
   "metadata": {},
   "source": [
    "## Ejercicio 3\n",
    "**3**. Mostrar sólo el director y el género de todas las películas."
   ]
  },
  {
   "cell_type": "code",
   "execution_count": 18,
   "metadata": {},
   "outputs": [
    {
     "data": {
      "text/html": [
       "<div>\n",
       "<style scoped>\n",
       "    .dataframe tbody tr th:only-of-type {\n",
       "        vertical-align: middle;\n",
       "    }\n",
       "\n",
       "    .dataframe tbody tr th {\n",
       "        vertical-align: top;\n",
       "    }\n",
       "\n",
       "    .dataframe thead th {\n",
       "        text-align: right;\n",
       "    }\n",
       "</style>\n",
       "<table border=\"1\" class=\"dataframe\">\n",
       "  <thead>\n",
       "    <tr style=\"text-align: right;\">\n",
       "      <th></th>\n",
       "      <th>director</th>\n",
       "      <th>género</th>\n",
       "    </tr>\n",
       "  </thead>\n",
       "  <tbody>\n",
       "    <tr>\n",
       "      <th>0</th>\n",
       "      <td>James Cameron</td>\n",
       "      <td>romance</td>\n",
       "    </tr>\n",
       "    <tr>\n",
       "      <th>1</th>\n",
       "      <td>Quentin Tarantino</td>\n",
       "      <td>acción</td>\n",
       "    </tr>\n",
       "    <tr>\n",
       "      <th>2</th>\n",
       "      <td>Hermanas Wachowski</td>\n",
       "      <td>ciencia ficción</td>\n",
       "    </tr>\n",
       "    <tr>\n",
       "      <th>3</th>\n",
       "      <td>Francis Ford Coppola</td>\n",
       "      <td>drama</td>\n",
       "    </tr>\n",
       "    <tr>\n",
       "      <th>4</th>\n",
       "      <td>James Cameron</td>\n",
       "      <td>ciencia ficción</td>\n",
       "    </tr>\n",
       "    <tr>\n",
       "      <th>5</th>\n",
       "      <td>Michael Curtiz</td>\n",
       "      <td>drama</td>\n",
       "    </tr>\n",
       "    <tr>\n",
       "      <th>6</th>\n",
       "      <td>William Friedkin</td>\n",
       "      <td>terror</td>\n",
       "    </tr>\n",
       "    <tr>\n",
       "      <th>7</th>\n",
       "      <td>Francis Lawrence</td>\n",
       "      <td>ciencia ficción</td>\n",
       "    </tr>\n",
       "    <tr>\n",
       "      <th>8</th>\n",
       "      <td>David Fincher</td>\n",
       "      <td>drama</td>\n",
       "    </tr>\n",
       "    <tr>\n",
       "      <th>9</th>\n",
       "      <td>Greta Gerwig</td>\n",
       "      <td>drama</td>\n",
       "    </tr>\n",
       "  </tbody>\n",
       "</table>\n",
       "</div>"
      ],
      "text/plain": [
       "               director           género\n",
       "0         James Cameron          romance\n",
       "1     Quentin Tarantino           acción\n",
       "2    Hermanas Wachowski  ciencia ficción\n",
       "3  Francis Ford Coppola            drama\n",
       "4         James Cameron  ciencia ficción\n",
       "5        Michael Curtiz            drama\n",
       "6      William Friedkin           terror\n",
       "7      Francis Lawrence  ciencia ficción\n",
       "8         David Fincher            drama\n",
       "9          Greta Gerwig            drama"
      ]
     },
     "execution_count": 18,
     "metadata": {},
     "output_type": "execute_result"
    }
   ],
   "source": [
    "df.loc[:,['director', 'género']]"
   ]
  },
  {
   "cell_type": "markdown",
   "metadata": {},
   "source": [
    "## Ejercicio 4\n",
    "**4**. Mostrar las películas que sean de drama."
   ]
  },
  {
   "cell_type": "code",
   "execution_count": 19,
   "metadata": {},
   "outputs": [
    {
     "data": {
      "text/html": [
       "<div>\n",
       "<style scoped>\n",
       "    .dataframe tbody tr th:only-of-type {\n",
       "        vertical-align: middle;\n",
       "    }\n",
       "\n",
       "    .dataframe tbody tr th {\n",
       "        vertical-align: top;\n",
       "    }\n",
       "\n",
       "    .dataframe thead th {\n",
       "        text-align: right;\n",
       "    }\n",
       "</style>\n",
       "<table border=\"1\" class=\"dataframe\">\n",
       "  <thead>\n",
       "    <tr style=\"text-align: right;\">\n",
       "      <th></th>\n",
       "      <th>nombre</th>\n",
       "      <th>director</th>\n",
       "      <th>año</th>\n",
       "      <th>género</th>\n",
       "      <th>puntaje</th>\n",
       "    </tr>\n",
       "  </thead>\n",
       "  <tbody>\n",
       "    <tr>\n",
       "      <th>3</th>\n",
       "      <td>El padrino</td>\n",
       "      <td>Francis Ford Coppola</td>\n",
       "      <td>1972</td>\n",
       "      <td>drama</td>\n",
       "      <td>7.5</td>\n",
       "    </tr>\n",
       "    <tr>\n",
       "      <th>5</th>\n",
       "      <td>Casablanca</td>\n",
       "      <td>Michael Curtiz</td>\n",
       "      <td>1942</td>\n",
       "      <td>drama</td>\n",
       "      <td>6.0</td>\n",
       "    </tr>\n",
       "    <tr>\n",
       "      <th>8</th>\n",
       "      <td>El club de la pelea</td>\n",
       "      <td>David Fincher</td>\n",
       "      <td>1999</td>\n",
       "      <td>drama</td>\n",
       "      <td>9.4</td>\n",
       "    </tr>\n",
       "    <tr>\n",
       "      <th>9</th>\n",
       "      <td>Mujercitas</td>\n",
       "      <td>Greta Gerwig</td>\n",
       "      <td>2019</td>\n",
       "      <td>drama</td>\n",
       "      <td>8.0</td>\n",
       "    </tr>\n",
       "  </tbody>\n",
       "</table>\n",
       "</div>"
      ],
      "text/plain": [
       "                nombre              director   año género  puntaje\n",
       "3           El padrino  Francis Ford Coppola  1972  drama      7.5\n",
       "5           Casablanca        Michael Curtiz  1942  drama      6.0\n",
       "8  El club de la pelea         David Fincher  1999  drama      9.4\n",
       "9           Mujercitas          Greta Gerwig  2019  drama      8.0"
      ]
     },
     "execution_count": 19,
     "metadata": {},
     "output_type": "execute_result"
    }
   ],
   "source": [
    "df[df['género'] == 'drama']"
   ]
  },
  {
   "cell_type": "markdown",
   "metadata": {},
   "source": [
    "## Ejercicio 5\n",
    "**5**. ¿Qué cantidad de películas hay de cada género?"
   ]
  },
  {
   "cell_type": "code",
   "execution_count": 21,
   "metadata": {},
   "outputs": [
    {
     "data": {
      "text/plain": [
       "género\n",
       "drama              4\n",
       "ciencia ficción    3\n",
       "romance            1\n",
       "acción             1\n",
       "terror             1\n",
       "Name: count, dtype: int64"
      ]
     },
     "execution_count": 21,
     "metadata": {},
     "output_type": "execute_result"
    }
   ],
   "source": [
    "df['género'].value_counts()"
   ]
  },
  {
   "cell_type": "markdown",
   "metadata": {},
   "source": [
    "## Ejercicio 6\n",
    "**6**. Mostrar las películas que tengan puntaje entre 6 y 8 y cuyo año de estreno sea anterior a los 2000."
   ]
  },
  {
   "cell_type": "code",
   "execution_count": 25,
   "metadata": {},
   "outputs": [
    {
     "data": {
      "text/html": [
       "<div>\n",
       "<style scoped>\n",
       "    .dataframe tbody tr th:only-of-type {\n",
       "        vertical-align: middle;\n",
       "    }\n",
       "\n",
       "    .dataframe tbody tr th {\n",
       "        vertical-align: top;\n",
       "    }\n",
       "\n",
       "    .dataframe thead th {\n",
       "        text-align: right;\n",
       "    }\n",
       "</style>\n",
       "<table border=\"1\" class=\"dataframe\">\n",
       "  <thead>\n",
       "    <tr style=\"text-align: right;\">\n",
       "      <th></th>\n",
       "      <th>nombre</th>\n",
       "      <th>director</th>\n",
       "      <th>año</th>\n",
       "      <th>género</th>\n",
       "      <th>puntaje</th>\n",
       "    </tr>\n",
       "  </thead>\n",
       "  <tbody>\n",
       "    <tr>\n",
       "      <th>2</th>\n",
       "      <td>Matrix</td>\n",
       "      <td>Hermanas Wachowski</td>\n",
       "      <td>1999</td>\n",
       "      <td>ciencia ficción</td>\n",
       "      <td>6.9</td>\n",
       "    </tr>\n",
       "    <tr>\n",
       "      <th>3</th>\n",
       "      <td>El padrino</td>\n",
       "      <td>Francis Ford Coppola</td>\n",
       "      <td>1972</td>\n",
       "      <td>drama</td>\n",
       "      <td>7.5</td>\n",
       "    </tr>\n",
       "    <tr>\n",
       "      <th>5</th>\n",
       "      <td>Casablanca</td>\n",
       "      <td>Michael Curtiz</td>\n",
       "      <td>1942</td>\n",
       "      <td>drama</td>\n",
       "      <td>6.0</td>\n",
       "    </tr>\n",
       "  </tbody>\n",
       "</table>\n",
       "</div>"
      ],
      "text/plain": [
       "       nombre              director   año           género  puntaje\n",
       "2      Matrix    Hermanas Wachowski  1999  ciencia ficción      6.9\n",
       "3  El padrino  Francis Ford Coppola  1972            drama      7.5\n",
       "5  Casablanca        Michael Curtiz  1942            drama      6.0"
      ]
     },
     "execution_count": 25,
     "metadata": {},
     "output_type": "execute_result"
    }
   ],
   "source": [
    "df[(df['puntaje'].between(6,8)) & (df['año'] <= 2000)]"
   ]
  },
  {
   "cell_type": "markdown",
   "metadata": {},
   "source": [
    "## Ejercicio 7\n",
    "**7**. Mostrar las películas que no hayan sido puntuadas (que el puntaje tenga un valor nulo)."
   ]
  },
  {
   "cell_type": "code",
   "execution_count": 28,
   "metadata": {},
   "outputs": [
    {
     "data": {
      "text/html": [
       "<div>\n",
       "<style scoped>\n",
       "    .dataframe tbody tr th:only-of-type {\n",
       "        vertical-align: middle;\n",
       "    }\n",
       "\n",
       "    .dataframe tbody tr th {\n",
       "        vertical-align: top;\n",
       "    }\n",
       "\n",
       "    .dataframe thead th {\n",
       "        text-align: right;\n",
       "    }\n",
       "</style>\n",
       "<table border=\"1\" class=\"dataframe\">\n",
       "  <thead>\n",
       "    <tr style=\"text-align: right;\">\n",
       "      <th></th>\n",
       "      <th>nombre</th>\n",
       "      <th>director</th>\n",
       "      <th>año</th>\n",
       "      <th>género</th>\n",
       "      <th>puntaje</th>\n",
       "    </tr>\n",
       "  </thead>\n",
       "  <tbody>\n",
       "    <tr>\n",
       "      <th>1</th>\n",
       "      <td>Kill Bill</td>\n",
       "      <td>Quentin Tarantino</td>\n",
       "      <td>2003</td>\n",
       "      <td>acción</td>\n",
       "      <td>NaN</td>\n",
       "    </tr>\n",
       "    <tr>\n",
       "      <th>6</th>\n",
       "      <td>El exorcista</td>\n",
       "      <td>William Friedkin</td>\n",
       "      <td>1973</td>\n",
       "      <td>terror</td>\n",
       "      <td>NaN</td>\n",
       "    </tr>\n",
       "    <tr>\n",
       "      <th>7</th>\n",
       "      <td>Soy leyenda</td>\n",
       "      <td>Francis Lawrence</td>\n",
       "      <td>2007</td>\n",
       "      <td>ciencia ficción</td>\n",
       "      <td>NaN</td>\n",
       "    </tr>\n",
       "  </tbody>\n",
       "</table>\n",
       "</div>"
      ],
      "text/plain": [
       "         nombre           director   año           género  puntaje\n",
       "1     Kill Bill  Quentin Tarantino  2003           acción      NaN\n",
       "6  El exorcista   William Friedkin  1973           terror      NaN\n",
       "7   Soy leyenda   Francis Lawrence  2007  ciencia ficción      NaN"
      ]
     },
     "execution_count": 28,
     "metadata": {},
     "output_type": "execute_result"
    }
   ],
   "source": [
    "df[df['puntaje'].isnull()]"
   ]
  },
  {
   "cell_type": "markdown",
   "metadata": {},
   "source": [
    "## Ejercicio 8\n",
    "**8**. Calcular el promedio del puntaje de todas las películas."
   ]
  },
  {
   "cell_type": "code",
   "execution_count": 33,
   "metadata": {},
   "outputs": [
    {
     "name": "stdout",
     "output_type": "stream",
     "text": [
      "El promedio de puntaje de todas las películas es: 7.928571428571429\n"
     ]
    }
   ],
   "source": [
    "promedio = df['puntaje'].mean()\n",
    "print(f'El promedio de puntaje de todas las películas es: {promedio}')"
   ]
  },
  {
   "cell_type": "markdown",
   "metadata": {},
   "source": [
    "## Ejercicio 9\n",
    "**9**. Ordenar las películas en orden alfabético descendente."
   ]
  },
  {
   "cell_type": "code",
   "execution_count": 34,
   "metadata": {},
   "outputs": [
    {
     "data": {
      "text/html": [
       "<div>\n",
       "<style scoped>\n",
       "    .dataframe tbody tr th:only-of-type {\n",
       "        vertical-align: middle;\n",
       "    }\n",
       "\n",
       "    .dataframe tbody tr th {\n",
       "        vertical-align: top;\n",
       "    }\n",
       "\n",
       "    .dataframe thead th {\n",
       "        text-align: right;\n",
       "    }\n",
       "</style>\n",
       "<table border=\"1\" class=\"dataframe\">\n",
       "  <thead>\n",
       "    <tr style=\"text-align: right;\">\n",
       "      <th></th>\n",
       "      <th>nombre</th>\n",
       "      <th>director</th>\n",
       "      <th>año</th>\n",
       "      <th>género</th>\n",
       "      <th>puntaje</th>\n",
       "    </tr>\n",
       "  </thead>\n",
       "  <tbody>\n",
       "    <tr>\n",
       "      <th>0</th>\n",
       "      <td>Titanic</td>\n",
       "      <td>James Cameron</td>\n",
       "      <td>1997</td>\n",
       "      <td>romance</td>\n",
       "      <td>8.6</td>\n",
       "    </tr>\n",
       "    <tr>\n",
       "      <th>7</th>\n",
       "      <td>Soy leyenda</td>\n",
       "      <td>Francis Lawrence</td>\n",
       "      <td>2007</td>\n",
       "      <td>ciencia ficción</td>\n",
       "      <td>NaN</td>\n",
       "    </tr>\n",
       "    <tr>\n",
       "      <th>9</th>\n",
       "      <td>Mujercitas</td>\n",
       "      <td>Greta Gerwig</td>\n",
       "      <td>2019</td>\n",
       "      <td>drama</td>\n",
       "      <td>8.0</td>\n",
       "    </tr>\n",
       "    <tr>\n",
       "      <th>2</th>\n",
       "      <td>Matrix</td>\n",
       "      <td>Hermanas Wachowski</td>\n",
       "      <td>1999</td>\n",
       "      <td>ciencia ficción</td>\n",
       "      <td>6.9</td>\n",
       "    </tr>\n",
       "    <tr>\n",
       "      <th>1</th>\n",
       "      <td>Kill Bill</td>\n",
       "      <td>Quentin Tarantino</td>\n",
       "      <td>2003</td>\n",
       "      <td>acción</td>\n",
       "      <td>NaN</td>\n",
       "    </tr>\n",
       "    <tr>\n",
       "      <th>3</th>\n",
       "      <td>El padrino</td>\n",
       "      <td>Francis Ford Coppola</td>\n",
       "      <td>1972</td>\n",
       "      <td>drama</td>\n",
       "      <td>7.5</td>\n",
       "    </tr>\n",
       "    <tr>\n",
       "      <th>6</th>\n",
       "      <td>El exorcista</td>\n",
       "      <td>William Friedkin</td>\n",
       "      <td>1973</td>\n",
       "      <td>terror</td>\n",
       "      <td>NaN</td>\n",
       "    </tr>\n",
       "    <tr>\n",
       "      <th>8</th>\n",
       "      <td>El club de la pelea</td>\n",
       "      <td>David Fincher</td>\n",
       "      <td>1999</td>\n",
       "      <td>drama</td>\n",
       "      <td>9.4</td>\n",
       "    </tr>\n",
       "    <tr>\n",
       "      <th>5</th>\n",
       "      <td>Casablanca</td>\n",
       "      <td>Michael Curtiz</td>\n",
       "      <td>1942</td>\n",
       "      <td>drama</td>\n",
       "      <td>6.0</td>\n",
       "    </tr>\n",
       "    <tr>\n",
       "      <th>4</th>\n",
       "      <td>Avatar</td>\n",
       "      <td>James Cameron</td>\n",
       "      <td>2009</td>\n",
       "      <td>ciencia ficción</td>\n",
       "      <td>9.1</td>\n",
       "    </tr>\n",
       "  </tbody>\n",
       "</table>\n",
       "</div>"
      ],
      "text/plain": [
       "                nombre              director   año           género  puntaje\n",
       "0              Titanic         James Cameron  1997          romance      8.6\n",
       "7          Soy leyenda      Francis Lawrence  2007  ciencia ficción      NaN\n",
       "9           Mujercitas          Greta Gerwig  2019            drama      8.0\n",
       "2               Matrix    Hermanas Wachowski  1999  ciencia ficción      6.9\n",
       "1            Kill Bill     Quentin Tarantino  2003           acción      NaN\n",
       "3           El padrino  Francis Ford Coppola  1972            drama      7.5\n",
       "6         El exorcista      William Friedkin  1973           terror      NaN\n",
       "8  El club de la pelea         David Fincher  1999            drama      9.4\n",
       "5           Casablanca        Michael Curtiz  1942            drama      6.0\n",
       "4               Avatar         James Cameron  2009  ciencia ficción      9.1"
      ]
     },
     "execution_count": 34,
     "metadata": {},
     "output_type": "execute_result"
    }
   ],
   "source": [
    "df.sort_values(by=['nombre'], ascending=[False])"
   ]
  },
  {
   "cell_type": "markdown",
   "metadata": {},
   "source": [
    "## Ejercicio 10\n",
    "**10**. Mostrar las 3 películas más antiguas."
   ]
  },
  {
   "cell_type": "code",
   "execution_count": 61,
   "metadata": {},
   "outputs": [
    {
     "data": {
      "text/html": [
       "<div>\n",
       "<style scoped>\n",
       "    .dataframe tbody tr th:only-of-type {\n",
       "        vertical-align: middle;\n",
       "    }\n",
       "\n",
       "    .dataframe tbody tr th {\n",
       "        vertical-align: top;\n",
       "    }\n",
       "\n",
       "    .dataframe thead th {\n",
       "        text-align: right;\n",
       "    }\n",
       "</style>\n",
       "<table border=\"1\" class=\"dataframe\">\n",
       "  <thead>\n",
       "    <tr style=\"text-align: right;\">\n",
       "      <th></th>\n",
       "      <th>nombre</th>\n",
       "      <th>director</th>\n",
       "      <th>año</th>\n",
       "      <th>género</th>\n",
       "      <th>puntaje</th>\n",
       "    </tr>\n",
       "  </thead>\n",
       "  <tbody>\n",
       "    <tr>\n",
       "      <th>5</th>\n",
       "      <td>Casablanca</td>\n",
       "      <td>Michael Curtiz</td>\n",
       "      <td>1942</td>\n",
       "      <td>drama</td>\n",
       "      <td>6.0</td>\n",
       "    </tr>\n",
       "    <tr>\n",
       "      <th>3</th>\n",
       "      <td>El padrino</td>\n",
       "      <td>Francis Ford Coppola</td>\n",
       "      <td>1972</td>\n",
       "      <td>drama</td>\n",
       "      <td>7.5</td>\n",
       "    </tr>\n",
       "    <tr>\n",
       "      <th>6</th>\n",
       "      <td>El exorcista</td>\n",
       "      <td>William Friedkin</td>\n",
       "      <td>1973</td>\n",
       "      <td>terror</td>\n",
       "      <td>NaN</td>\n",
       "    </tr>\n",
       "  </tbody>\n",
       "</table>\n",
       "</div>"
      ],
      "text/plain": [
       "         nombre              director   año  género  puntaje\n",
       "5    Casablanca        Michael Curtiz  1942   drama      6.0\n",
       "3    El padrino  Francis Ford Coppola  1972   drama      7.5\n",
       "6  El exorcista      William Friedkin  1973  terror      NaN"
      ]
     },
     "execution_count": 61,
     "metadata": {},
     "output_type": "execute_result"
    }
   ],
   "source": [
    "# tabla_ordenada_antigua = df.sort_values(by=['año'],ascending=[True])\n",
    "# tabla_ordenada_antigua.head(3)\n",
    "\n",
    "#? OTRA FORMA\n",
    "df.sort_values(by=['año'], ascending=[True]).head(3)\n"
   ]
  },
  {
   "cell_type": "code",
   "execution_count": 60,
   "metadata": {},
   "outputs": [
    {
     "data": {
      "text/html": [
       "<div>\n",
       "<style scoped>\n",
       "    .dataframe tbody tr th:only-of-type {\n",
       "        vertical-align: middle;\n",
       "    }\n",
       "\n",
       "    .dataframe tbody tr th {\n",
       "        vertical-align: top;\n",
       "    }\n",
       "\n",
       "    .dataframe thead th {\n",
       "        text-align: right;\n",
       "    }\n",
       "</style>\n",
       "<table border=\"1\" class=\"dataframe\">\n",
       "  <thead>\n",
       "    <tr style=\"text-align: right;\">\n",
       "      <th></th>\n",
       "      <th>nombre</th>\n",
       "      <th>director</th>\n",
       "      <th>año</th>\n",
       "      <th>género</th>\n",
       "      <th>puntaje</th>\n",
       "    </tr>\n",
       "  </thead>\n",
       "  <tbody>\n",
       "    <tr>\n",
       "      <th>9</th>\n",
       "      <td>Mujercitas</td>\n",
       "      <td>Greta Gerwig</td>\n",
       "      <td>2019</td>\n",
       "      <td>drama</td>\n",
       "      <td>8.0</td>\n",
       "    </tr>\n",
       "    <tr>\n",
       "      <th>4</th>\n",
       "      <td>Avatar</td>\n",
       "      <td>James Cameron</td>\n",
       "      <td>2009</td>\n",
       "      <td>ciencia ficción</td>\n",
       "      <td>9.1</td>\n",
       "    </tr>\n",
       "    <tr>\n",
       "      <th>7</th>\n",
       "      <td>Soy leyenda</td>\n",
       "      <td>Francis Lawrence</td>\n",
       "      <td>2007</td>\n",
       "      <td>ciencia ficción</td>\n",
       "      <td>NaN</td>\n",
       "    </tr>\n",
       "  </tbody>\n",
       "</table>\n",
       "</div>"
      ],
      "text/plain": [
       "        nombre          director   año           género  puntaje\n",
       "9   Mujercitas      Greta Gerwig  2019            drama      8.0\n",
       "4       Avatar     James Cameron  2009  ciencia ficción      9.1\n",
       "7  Soy leyenda  Francis Lawrence  2007  ciencia ficción      NaN"
      ]
     },
     "execution_count": 60,
     "metadata": {},
     "output_type": "execute_result"
    }
   ],
   "source": [
    "# tabla_ord_nueva = df.sort_values(by=['año'],ascending=[False])\n",
    "# tabla_ord_nueva = tabla_ord_nueva.head(3)\n",
    "# tabla_ord_nueva.loc[:,['nombre', 'año']]\n",
    "\n",
    "#? OTRA FORMA\n",
    "df.sort_values(by=['año'], ascending=[False]).head(3)"
   ]
  },
  {
   "cell_type": "markdown",
   "metadata": {},
   "source": [
    "## Ejercicio 11\n",
    "**11**. Mostrar sólo el nombre y el año de las 3 películas más nuevas.\n"
   ]
  },
  {
   "cell_type": "markdown",
   "metadata": {},
   "source": [
    "## Ejercicio 12\n",
    "**12**. Agregar una columna que indique si la película fue vista, o no. Una película fue vista cuando tiene puntaje no nulo."
   ]
  },
  {
   "cell_type": "code",
   "execution_count": 75,
   "metadata": {},
   "outputs": [
    {
     "data": {
      "text/html": [
       "<div>\n",
       "<style scoped>\n",
       "    .dataframe tbody tr th:only-of-type {\n",
       "        vertical-align: middle;\n",
       "    }\n",
       "\n",
       "    .dataframe tbody tr th {\n",
       "        vertical-align: top;\n",
       "    }\n",
       "\n",
       "    .dataframe thead th {\n",
       "        text-align: right;\n",
       "    }\n",
       "</style>\n",
       "<table border=\"1\" class=\"dataframe\">\n",
       "  <thead>\n",
       "    <tr style=\"text-align: right;\">\n",
       "      <th></th>\n",
       "      <th>nombre</th>\n",
       "      <th>director</th>\n",
       "      <th>año</th>\n",
       "      <th>género</th>\n",
       "      <th>puntaje</th>\n",
       "      <th>vista</th>\n",
       "    </tr>\n",
       "  </thead>\n",
       "  <tbody>\n",
       "    <tr>\n",
       "      <th>0</th>\n",
       "      <td>Titanic</td>\n",
       "      <td>James Cameron</td>\n",
       "      <td>1997</td>\n",
       "      <td>romance</td>\n",
       "      <td>8.6</td>\n",
       "      <td>True</td>\n",
       "    </tr>\n",
       "    <tr>\n",
       "      <th>1</th>\n",
       "      <td>Kill Bill</td>\n",
       "      <td>Quentin Tarantino</td>\n",
       "      <td>2003</td>\n",
       "      <td>acción</td>\n",
       "      <td>NaN</td>\n",
       "      <td>False</td>\n",
       "    </tr>\n",
       "    <tr>\n",
       "      <th>2</th>\n",
       "      <td>Matrix</td>\n",
       "      <td>Hermanas Wachowski</td>\n",
       "      <td>1999</td>\n",
       "      <td>ciencia ficción</td>\n",
       "      <td>6.9</td>\n",
       "      <td>True</td>\n",
       "    </tr>\n",
       "    <tr>\n",
       "      <th>3</th>\n",
       "      <td>El padrino</td>\n",
       "      <td>Francis Ford Coppola</td>\n",
       "      <td>1972</td>\n",
       "      <td>drama</td>\n",
       "      <td>7.5</td>\n",
       "      <td>True</td>\n",
       "    </tr>\n",
       "    <tr>\n",
       "      <th>4</th>\n",
       "      <td>Avatar</td>\n",
       "      <td>James Cameron</td>\n",
       "      <td>2009</td>\n",
       "      <td>ciencia ficción</td>\n",
       "      <td>9.1</td>\n",
       "      <td>True</td>\n",
       "    </tr>\n",
       "    <tr>\n",
       "      <th>5</th>\n",
       "      <td>Casablanca</td>\n",
       "      <td>Michael Curtiz</td>\n",
       "      <td>1942</td>\n",
       "      <td>drama</td>\n",
       "      <td>6.0</td>\n",
       "      <td>True</td>\n",
       "    </tr>\n",
       "    <tr>\n",
       "      <th>6</th>\n",
       "      <td>El exorcista</td>\n",
       "      <td>William Friedkin</td>\n",
       "      <td>1973</td>\n",
       "      <td>terror</td>\n",
       "      <td>NaN</td>\n",
       "      <td>False</td>\n",
       "    </tr>\n",
       "    <tr>\n",
       "      <th>7</th>\n",
       "      <td>Soy leyenda</td>\n",
       "      <td>Francis Lawrence</td>\n",
       "      <td>2007</td>\n",
       "      <td>ciencia ficción</td>\n",
       "      <td>NaN</td>\n",
       "      <td>False</td>\n",
       "    </tr>\n",
       "    <tr>\n",
       "      <th>8</th>\n",
       "      <td>El club de la pelea</td>\n",
       "      <td>David Fincher</td>\n",
       "      <td>1999</td>\n",
       "      <td>drama</td>\n",
       "      <td>9.4</td>\n",
       "      <td>True</td>\n",
       "    </tr>\n",
       "    <tr>\n",
       "      <th>9</th>\n",
       "      <td>Mujercitas</td>\n",
       "      <td>Greta Gerwig</td>\n",
       "      <td>2019</td>\n",
       "      <td>drama</td>\n",
       "      <td>8.0</td>\n",
       "      <td>True</td>\n",
       "    </tr>\n",
       "  </tbody>\n",
       "</table>\n",
       "</div>"
      ],
      "text/plain": [
       "                nombre              director   año           género  puntaje  \\\n",
       "0              Titanic         James Cameron  1997          romance      8.6   \n",
       "1            Kill Bill     Quentin Tarantino  2003           acción      NaN   \n",
       "2               Matrix    Hermanas Wachowski  1999  ciencia ficción      6.9   \n",
       "3           El padrino  Francis Ford Coppola  1972            drama      7.5   \n",
       "4               Avatar         James Cameron  2009  ciencia ficción      9.1   \n",
       "5           Casablanca        Michael Curtiz  1942            drama      6.0   \n",
       "6         El exorcista      William Friedkin  1973           terror      NaN   \n",
       "7          Soy leyenda      Francis Lawrence  2007  ciencia ficción      NaN   \n",
       "8  El club de la pelea         David Fincher  1999            drama      9.4   \n",
       "9           Mujercitas          Greta Gerwig  2019            drama      8.0   \n",
       "\n",
       "   vista  \n",
       "0   True  \n",
       "1  False  \n",
       "2   True  \n",
       "3   True  \n",
       "4   True  \n",
       "5   True  \n",
       "6  False  \n",
       "7  False  \n",
       "8   True  \n",
       "9   True  "
      ]
     },
     "execution_count": 75,
     "metadata": {},
     "output_type": "execute_result"
    }
   ],
   "source": [
    "#Creo la nueva columna\n",
    "df['vista'] = df['puntaje'].notnull()\n",
    "df\n"
   ]
  }
 ],
 "metadata": {
  "kernelspec": {
   "display_name": "Python 3",
   "language": "python",
   "name": "python3"
  },
  "language_info": {
   "codemirror_mode": {
    "name": "ipython",
    "version": 3
   },
   "file_extension": ".py",
   "mimetype": "text/x-python",
   "name": "python",
   "nbconvert_exporter": "python",
   "pygments_lexer": "ipython3",
   "version": "3.12.2"
  }
 },
 "nbformat": 4,
 "nbformat_minor": 2
}
